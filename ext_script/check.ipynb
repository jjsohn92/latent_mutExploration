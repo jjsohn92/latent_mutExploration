{
 "cells": [
  {
   "cell_type": "code",
   "execution_count": 1,
   "metadata": {},
   "outputs": [],
   "source": [
    "%load_ext autoreload\n",
    "%autoreload 2"
   ]
  },
  {
   "cell_type": "code",
   "execution_count": 31,
   "metadata": {},
   "outputs": [],
   "source": [
    "import pandas as pd\n",
    "import os \n",
    "import numpy as np"
   ]
  },
  {
   "cell_type": "code",
   "execution_count": 32,
   "metadata": {},
   "outputs": [
    {
     "name": "stdout",
     "output_type": "stream",
     "text": [
      "Collecting matplotlib\n",
      "  Downloading matplotlib-3.8.2-cp39-cp39-macosx_10_12_x86_64.whl.metadata (5.8 kB)\n",
      "Collecting contourpy>=1.0.1 (from matplotlib)\n",
      "  Downloading contourpy-1.2.0-cp39-cp39-macosx_10_9_x86_64.whl.metadata (5.8 kB)\n",
      "Collecting cycler>=0.10 (from matplotlib)\n",
      "  Downloading cycler-0.12.1-py3-none-any.whl.metadata (3.8 kB)\n",
      "Collecting fonttools>=4.22.0 (from matplotlib)\n",
      "  Downloading fonttools-4.47.2-cp39-cp39-macosx_10_9_x86_64.whl.metadata (157 kB)\n",
      "\u001b[2K     \u001b[90m━━━━━━━━━━━━━━━━━━━━━━━━━━━━━━━━━━━━━━━\u001b[0m \u001b[32m157.6/157.6 kB\u001b[0m \u001b[31m3.7 MB/s\u001b[0m eta \u001b[36m0:00:00\u001b[0m00:01\u001b[0m\n",
      "\u001b[?25hCollecting kiwisolver>=1.3.1 (from matplotlib)\n",
      "  Downloading kiwisolver-1.4.5-cp39-cp39-macosx_10_9_x86_64.whl.metadata (6.4 kB)\n",
      "Requirement already satisfied: numpy<2,>=1.21 in /Users/jeongju.sohn/workdir/mutPropRepli/.venv/lib/python3.9/site-packages (from matplotlib) (1.26.3)\n",
      "Requirement already satisfied: packaging>=20.0 in /Users/jeongju.sohn/workdir/mutPropRepli/.venv/lib/python3.9/site-packages (from matplotlib) (23.2)\n",
      "Collecting pillow>=8 (from matplotlib)\n",
      "  Downloading pillow-10.2.0-cp39-cp39-macosx_10_10_x86_64.whl.metadata (9.7 kB)\n",
      "Collecting pyparsing>=2.3.1 (from matplotlib)\n",
      "  Downloading pyparsing-3.1.1-py3-none-any.whl.metadata (5.1 kB)\n",
      "Requirement already satisfied: python-dateutil>=2.7 in /Users/jeongju.sohn/workdir/mutPropRepli/.venv/lib/python3.9/site-packages (from matplotlib) (2.8.2)\n",
      "Collecting importlib-resources>=3.2.0 (from matplotlib)\n",
      "  Downloading importlib_resources-6.1.1-py3-none-any.whl.metadata (4.1 kB)\n",
      "Requirement already satisfied: zipp>=3.1.0 in /Users/jeongju.sohn/workdir/mutPropRepli/.venv/lib/python3.9/site-packages (from importlib-resources>=3.2.0->matplotlib) (3.17.0)\n",
      "Requirement already satisfied: six>=1.5 in /Users/jeongju.sohn/workdir/mutPropRepli/.venv/lib/python3.9/site-packages (from python-dateutil>=2.7->matplotlib) (1.16.0)\n",
      "Downloading matplotlib-3.8.2-cp39-cp39-macosx_10_12_x86_64.whl (7.6 MB)\n",
      "\u001b[2K   \u001b[90m━━━━━━━━━━━━━━━━━━━━━━━━━━━━━━━━━━━━━━━━\u001b[0m \u001b[32m7.6/7.6 MB\u001b[0m \u001b[31m26.6 MB/s\u001b[0m eta \u001b[36m0:00:00\u001b[0m00:01\u001b[0m00:01\u001b[0m\n",
      "\u001b[?25hDownloading contourpy-1.2.0-cp39-cp39-macosx_10_9_x86_64.whl (257 kB)\n",
      "\u001b[2K   \u001b[90m━━━━━━━━━━━━━━━━━━━━━━━━━━━━━━━━━━━━━━━━\u001b[0m \u001b[32m257.1/257.1 kB\u001b[0m \u001b[31m9.5 MB/s\u001b[0m eta \u001b[36m0:00:00\u001b[0m\n",
      "\u001b[?25hDownloading cycler-0.12.1-py3-none-any.whl (8.3 kB)\n",
      "Downloading fonttools-4.47.2-cp39-cp39-macosx_10_9_x86_64.whl (2.3 MB)\n",
      "\u001b[2K   \u001b[90m━━━━━━━━━━━━━━━━━━━━━━━━━━━━━━━━━━━━━━━━\u001b[0m \u001b[32m2.3/2.3 MB\u001b[0m \u001b[31m25.8 MB/s\u001b[0m eta \u001b[36m0:00:00\u001b[0m00:01\u001b[0m00:01\u001b[0m\n",
      "\u001b[?25hDownloading importlib_resources-6.1.1-py3-none-any.whl (33 kB)\n",
      "Downloading kiwisolver-1.4.5-cp39-cp39-macosx_10_9_x86_64.whl (68 kB)\n",
      "\u001b[2K   \u001b[90m━━━━━━━━━━━━━━━━━━━━━━━━━━━━━━━━━━━━━━━━\u001b[0m \u001b[32m68.1/68.1 kB\u001b[0m \u001b[31m2.5 MB/s\u001b[0m eta \u001b[36m0:00:00\u001b[0m\n",
      "\u001b[?25hDownloading pillow-10.2.0-cp39-cp39-macosx_10_10_x86_64.whl (3.5 MB)\n",
      "\u001b[2K   \u001b[90m━━━━━━━━━━━━━━━━━━━━━━━━━━━━━━━━━━━━━━━━\u001b[0m \u001b[32m3.5/3.5 MB\u001b[0m \u001b[31m25.7 MB/s\u001b[0m eta \u001b[36m0:00:00\u001b[0m00:01\u001b[0m00:01\u001b[0m\n",
      "\u001b[?25hDownloading pyparsing-3.1.1-py3-none-any.whl (103 kB)\n",
      "\u001b[2K   \u001b[90m━━━━━━━━━━━━━━━━━━━━━━━━━━━━━━━━━━━━━━━━\u001b[0m \u001b[32m103.1/103.1 kB\u001b[0m \u001b[31m4.0 MB/s\u001b[0m eta \u001b[36m0:00:00\u001b[0m\n",
      "\u001b[?25hInstalling collected packages: pyparsing, pillow, kiwisolver, importlib-resources, fonttools, cycler, contourpy, matplotlib\n",
      "Successfully installed contourpy-1.2.0 cycler-0.12.1 fonttools-4.47.2 importlib-resources-6.1.1 kiwisolver-1.4.5 matplotlib-3.8.2 pillow-10.2.0 pyparsing-3.1.1\n"
     ]
    }
   ],
   "source": [
    "!pip install matplotlib "
   ]
  },
  {
   "cell_type": "code",
   "execution_count": 33,
   "metadata": {},
   "outputs": [],
   "source": [
    "import matplotlib.pyplot as plt"
   ]
  },
  {
   "cell_type": "code",
   "execution_count": 3,
   "metadata": {},
   "outputs": [],
   "source": [
    "outputdir = \"../output/evaluation/processed\"\n",
    "projects = ['Lang', 'Math']#, 'Time', 'Closure', 'Cli', 'Compress', 'Codec', 'Collections', 'Csv', \n",
    "    #'JacksonCore', 'JacksonXml', 'JxPath', 'Jsoup']"
   ]
  },
  {
   "cell_type": "code",
   "execution_count": 13,
   "metadata": {},
   "outputs": [],
   "source": [
    "dfs, dfs_wo_thr = [], []\n",
    "for project in projects:\n",
    "    mut_propa_stat_debt_file = os.path.join(outputdir, f\"{project}.indv_mut_propagation_status_and_debt.csv\") \n",
    "    df = pd.read_csv(mut_propa_stat_debt_file)\n",
    "    df['project'] = [project] * len(df)\n",
    "    dfs_wo_thr.append(df)\n",
    "    df = df.loc[~((df.status == 'latent') & (df.debt_time > 365))]\n",
    "    df = df.loc[~((df.status == 'non-latent') & (df.debt_time <= 365))]\n",
    "    df = df.loc[~((df.status == 'discard') & (df.debt_time > 365))]\n",
    "    dfs.append(df)\n",
    "cdf = pd.concat(dfs)\n",
    "cdf_wo_thr = pd.concat(dfs_wo_thr)"
   ]
  },
  {
   "cell_type": "code",
   "execution_count": 96,
   "metadata": {},
   "outputs": [
    {
     "data": {
      "text/plain": [
       "'src.main.java.org.apache.commons.lang3.math.NumberUtils-18'"
      ]
     },
     "execution_count": 96,
     "metadata": {},
     "output_type": "execute_result"
    }
   ],
   "source": [
    "cdf_wo_thr.mutK.values[0]"
   ]
  },
  {
   "cell_type": "code",
   "execution_count": 101,
   "metadata": {},
   "outputs": [
    {
     "data": {
      "text/plain": [
       "((3124, 8), (3124, 8))"
      ]
     },
     "execution_count": 101,
     "metadata": {},
     "output_type": "execute_result"
    }
   ],
   "source": [
    "cdf_wo_thr[~cdf_wo_thr.debt_nc.isnull()].shape, cdf_wo_thr.shape"
   ]
  },
  {
   "cell_type": "code",
   "execution_count": 15,
   "metadata": {},
   "outputs": [
    {
     "name": "stdout",
     "output_type": "stream",
     "text": [
      " & 2 (23)& 22 (339)& 227 (427)& 100 (328)\\\\\n",
      " & 5 (34)& 34 (326)& 160 (469)& 90 (330)\\\\\n"
     ]
    }
   ],
   "source": [
    "def compare_surv_dur(df, df_wo_thr, target_col):\n",
    "    line = \"\"\n",
    "    grouped = df.groupby('status')\n",
    "    grouped_wo_thr = df_wo_thr.groupby('status')\n",
    "    for status in ['latent']:#, 'non-latent', 'discard']:\n",
    "        adf = grouped.get_group(status)\n",
    "        a_adf = grouped_wo_thr.get_group(status)\n",
    "        vs = adf[target_col].values \n",
    "        n_25 = int(np.round(np.percentile(vs, 25)))\n",
    "        n_50 = int(np.round(np.percentile(vs, 50)))\n",
    "        n_75 = int(np.round(np.percentile(vs, 75)))\n",
    "        n_mean = int(np.round(adf[target_col].mean()))\n",
    "        a_vs = a_adf[target_col].values \n",
    "        a_n_25 = int(np.round(np.percentile(a_vs, 25)))\n",
    "        a_n_50 = int(np.round(np.percentile(a_vs, 50)))\n",
    "        a_n_75 = int(np.round(np.percentile(a_vs, 75)))\n",
    "        a_n_mean = int(np.round(a_adf[target_col].mean()))\n",
    "        line += f\" & {n_25} ({a_n_25})& {n_50} ({a_n_50})& {n_75} ({a_n_75})& {n_mean} ({a_n_mean})\"\n",
    "    print (line + \"\\\\\\\\\")\n",
    "\n",
    "project = 'Lang'\n",
    "line = \"\"\n",
    "grouped = cdf.groupby('status')\n",
    "for status in ['latent']:#, 'non-latent', 'discard']:\n",
    "    target_cdf = cdf.loc[cdf.project == project]\n",
    "    target_cdf_wo_thr = cdf_wo_thr.loc[cdf_wo_thr.project == project]\n",
    "    compare_surv_dur(target_cdf, target_cdf_wo_thr, 'debt_time')\n",
    "    compare_surv_dur(target_cdf, target_cdf_wo_thr, 'debt_nc')"
   ]
  },
  {
   "cell_type": "code",
   "execution_count": 76,
   "metadata": {},
   "outputs": [
    {
     "name": "stdout",
     "output_type": "stream",
     "text": [
      " & 8 (9)& 24 (40)& 120 (291)& 81 (182)\\\\\n",
      " & 22 (23)& 52 (61)& 236 (458)& 176 (346)\\\\\n"
     ]
    }
   ],
   "source": [
    "project = 'Math'\n",
    "line = \"\"\n",
    "grouped = cdf.groupby('status')\n",
    "for status in ['latent']:#, 'non-latent', 'discard']:\n",
    "    target_cdf = cdf.loc[cdf.project == project]\n",
    "    target_cdf_wo_thr = cdf_wo_thr.loc[cdf_wo_thr.project == project]\n",
    "    compare_surv_dur(target_cdf, target_cdf_wo_thr, 'debt_time')\n",
    "    compare_surv_dur(target_cdf, target_cdf_wo_thr, 'debt_nc')"
   ]
  },
  {
   "cell_type": "code",
   "execution_count": 77,
   "metadata": {},
   "outputs": [
    {
     "data": {
      "text/plain": [
       "<Axes: ylabel='Frequency'>"
      ]
     },
     "execution_count": 77,
     "metadata": {},
     "output_type": "execute_result"
    },
    {
     "data": {
      "image/png": "[encoded data removed]",
      "text/plain": [
       "<Figure size 640x480 with 1 Axes>"
      ]
     },
     "metadata": {},
     "output_type": "display_data"
    }
   ],
   "source": [
    "#fig, ax = plt.subplots(figsize = (6,6))\n",
    "target_cdf_wo_thr.loc[(target_cdf_wo_thr.status == 'latent') & (target_cdf_wo_thr.debt_time <= 328)].debt_time.plot.hist(bins = 20)"
   ]
  },
  {
   "cell_type": "code",
   "execution_count": 86,
   "metadata": {},
   "outputs": [
    {
     "name": "stdout",
     "output_type": "stream",
     "text": [
      "61.0\n"
     ]
    },
    {
     "data": {
      "image/png": "[encoded data removed]",
      "text/plain": [
       "<Figure size 640x480 with 1 Axes>"
      ]
     },
     "metadata": {},
     "output_type": "display_data"
    }
   ],
   "source": [
    "#fig, ax = plt.subplots(figsize = (6,6))\n",
    "d_target_cdf_wo_thr = target_cdf_wo_thr.loc[target_cdf_wo_thr.status == 'latent']\n",
    "d_target_cdf_wo_thr.loc[\n",
    "    d_target_cdf_wo_thr.debt_nc <= np.percentile(d_target_cdf_wo_thr.debt_nc.values, 25)\n",
    "    ].debt_nc.plot.hist(bins = 20)\n",
    "\n",
    "print (np.percentile(d_target_cdf_wo_thr.debt_nc.values, 50))"
   ]
  },
  {
   "cell_type": "code",
   "execution_count": 79,
   "metadata": {},
   "outputs": [
    {
     "data": {
      "text/plain": [
       "bid\n",
       "20     32\n",
       "19     22\n",
       "16     17\n",
       "18     14\n",
       "15     12\n",
       "49      7\n",
       "55      6\n",
       "63      6\n",
       "78      4\n",
       "71      4\n",
       "67      3\n",
       "6       3\n",
       "52      3\n",
       "103     3\n",
       "92      3\n",
       "85      2\n",
       "66      2\n",
       "99      2\n",
       "93      2\n",
       "10      2\n",
       "82      2\n",
       "98      1\n",
       "95      1\n",
       "94      1\n",
       "3       1\n",
       "84      1\n",
       "77      1\n",
       "74      1\n",
       "72      1\n",
       "28      1\n",
       "24      1\n",
       "21      1\n",
       "104     1\n",
       "dtype: int64"
      ]
     },
     "execution_count": 79,
     "metadata": {},
     "output_type": "execute_result"
    }
   ],
   "source": [
    "d_target_cdf_wo_thr.value_counts('bid')"
   ]
  },
  {
   "cell_type": "code",
   "execution_count": 82,
   "metadata": {},
   "outputs": [
    {
     "data": {
      "text/plain": [
       "bid\n",
       "15     279\n",
       "16     254\n",
       "6      151\n",
       "19     112\n",
       "20     112\n",
       "18     102\n",
       "52      66\n",
       "55      53\n",
       "49      51\n",
       "63      49\n",
       "72      34\n",
       "3       23\n",
       "78      23\n",
       "71      21\n",
       "10      21\n",
       "24      20\n",
       "99      17\n",
       "92      15\n",
       "66      15\n",
       "74      13\n",
       "28      13\n",
       "67      12\n",
       "103     11\n",
       "85       7\n",
       "93       7\n",
       "94       7\n",
       "98       7\n",
       "104      6\n",
       "84       5\n",
       "77       5\n",
       "21       4\n",
       "82       3\n",
       "95       3\n",
       "dtype: int64"
      ]
     },
     "execution_count": 82,
     "metadata": {},
     "output_type": "execute_result"
    }
   ],
   "source": [
    "adf = target_cdf_wo_thr.loc[target_cdf_wo_thr.bid.isin(d_target_cdf_wo_thr.bid.unique())].value_counts('bid')"
   ]
  },
  {
   "cell_type": "code",
   "execution_count": 50,
   "metadata": {},
   "outputs": [
    {
     "data": {
      "text/plain": [
       "39       27.492905\n",
       "209      10.039549\n",
       "210      10.039549\n",
       "211     152.358322\n",
       "252      24.309525\n",
       "           ...    \n",
       "1923    296.864919\n",
       "2024      4.516713\n",
       "2041     40.004005\n",
       "2048    196.820637\n",
       "2049    249.332106\n",
       "Name: debt_time, Length: 134, dtype: float64"
      ]
     },
     "execution_count": 50,
     "metadata": {},
     "output_type": "execute_result"
    }
   ],
   "source": [
    "target_cdf_wo_thr.loc[(target_cdf_wo_thr.status == 'latent') & (target_cdf_wo_thr.debt_time <= 328)].debt_time"
   ]
  },
  {
   "cell_type": "code",
   "execution_count": 46,
   "metadata": {},
   "outputs": [
    {
     "data": {
      "text/plain": [
       "(0.0518634259259259, 1227.3904398148147)"
      ]
     },
     "execution_count": 46,
     "metadata": {},
     "output_type": "execute_result"
    }
   ],
   "source": [
    "target_cdf_wo_thr.loc[target_cdf_wo_thr.status == 'latent'].debt_time.min(), target_cdf_wo_thr.loc[target_cdf_wo_thr.status == 'latent'].debt_time.max()"
   ]
  },
  {
   "cell_type": "code",
   "execution_count": null,
   "metadata": {},
   "outputs": [],
   "source": [
    "target_cdf.plot.hist(by = 'debt_time')"
   ]
  },
  {
   "cell_type": "code",
   "execution_count": 104,
   "metadata": {},
   "outputs": [
    {
     "name": "stdout",
     "output_type": "stream",
     "text": [
      "Collecting pydriller\n",
      "  Downloading PyDriller-2.6-py3-none-any.whl.metadata (1.3 kB)\n",
      "Requirement already satisfied: gitpython in /Users/jeongju.sohn/workdir/mutPropRepli/.venv/lib/python3.9/site-packages (from pydriller) (3.1.41)\n",
      "Requirement already satisfied: pytz in /Users/jeongju.sohn/workdir/mutPropRepli/.venv/lib/python3.9/site-packages (from pydriller) (2023.3.post1)\n",
      "Collecting types-pytz (from pydriller)\n",
      "  Using cached types_pytz-2023.3.1.1-py3-none-any.whl.metadata (1.3 kB)\n",
      "Collecting lizard (from pydriller)\n",
      "  Using cached lizard-1.17.10-py2.py3-none-any.whl (66 kB)\n",
      "Requirement already satisfied: gitdb<5,>=4.0.1 in /Users/jeongju.sohn/workdir/mutPropRepli/.venv/lib/python3.9/site-packages (from gitpython->pydriller) (4.0.11)\n",
      "Requirement already satisfied: smmap<6,>=3.0.1 in /Users/jeongju.sohn/workdir/mutPropRepli/.venv/lib/python3.9/site-packages (from gitdb<5,>=4.0.1->gitpython->pydriller) (5.0.1)\n",
      "Downloading PyDriller-2.6-py3-none-any.whl (33 kB)\n",
      "Using cached types_pytz-2023.3.1.1-py3-none-any.whl (4.9 kB)\n",
      "Installing collected packages: types-pytz, lizard, pydriller\n",
      "Successfully installed lizard-1.17.10 pydriller-2.6 types-pytz-2023.3.1.1\n"
     ]
    }
   ],
   "source": [
    "!pip install pydriller "
   ]
  },
  {
   "cell_type": "code",
   "execution_count": 160,
   "metadata": {},
   "outputs": [],
   "source": [
    "import pydriller \n",
    "\n",
    "#workdir = \"workdir/mutPropRepli/workdir/Lang7temp2\"\n",
    "workdir = \"/Users/jeongju.sohn/workdir/tools/defects4j/project_repos/commons-lang.git\"\n",
    "repo = pydriller.Repository(\"/Users/jeongju.sohn/workdir/mutPropRepli/workdir/Lang7temp2\", order = 'reverse')\n",
    "commits = list(repo.traverse_commits())"
   ]
  },
  {
   "cell_type": "code",
   "execution_count": 161,
   "metadata": {},
   "outputs": [
    {
     "data": {
      "text/plain": [
       "(343, 363)"
      ]
     },
     "execution_count": 161,
     "metadata": {},
     "output_type": "execute_result"
    }
   ],
   "source": [
    "commits[0].modified_files[-1].changed_methods[0].start_line, commits[0].modified_files[-1].changed_methods[0].end_line"
   ]
  },
  {
   "cell_type": "code",
   "execution_count": 162,
   "metadata": {},
   "outputs": [
    {
     "data": {
      "text/plain": [
       "[(351,\n",
       "  '        assertEquals(\"createBigInteger(String) failed\", new BigInteger(\"255\"), NumberUtils.createBigInteger(\"0xff\"));'),\n",
       " (352,\n",
       "  '        assertEquals(\"createBigInteger(String) failed\", new BigInteger(\"255\"), NumberUtils.createBigInteger(\"#ff\"));'),\n",
       " (353,\n",
       "  '        assertEquals(\"createBigInteger(String) failed\", new BigInteger(\"-255\"), NumberUtils.createBigInteger(\"-0xff\"));'),\n",
       " (354,\n",
       "  '        assertEquals(\"createBigInteger(String) failed\", new BigInteger(\"255\"), NumberUtils.createBigInteger(\"0377\"));'),\n",
       " (355,\n",
       "  '        assertEquals(\"createBigInteger(String) failed\", new BigInteger(\"-255\"), NumberUtils.createBigInteger(\"-0377\"));'),\n",
       " (356,\n",
       "  '        assertEquals(\"createBigInteger(String) failed\", new BigInteger(\"-255\"), NumberUtils.createBigInteger(\"-0377\"));'),\n",
       " (357,\n",
       "  '        assertEquals(\"createBigInteger(String) failed\", new BigInteger(\"-0\"), NumberUtils.createBigInteger(\"-0\"));'),\n",
       " (358,\n",
       "  '        assertEquals(\"createBigInteger(String) failed\", new BigInteger(\"0\"), NumberUtils.createBigInteger(\"0\"));'),\n",
       " (359, '        testCreateBigIntegerFailure(\"#\");'),\n",
       " (360, '        testCreateBigIntegerFailure(\"-#\");'),\n",
       " (361, '        testCreateBigIntegerFailure(\"0x\");'),\n",
       " (362, '        testCreateBigIntegerFailure(\"-0x\");')]"
      ]
     },
     "execution_count": 162,
     "metadata": {},
     "output_type": "execute_result"
    }
   ],
   "source": [
    "commits[0].modified_files[-1].diff_parsed['added']"
   ]
  },
  {
   "cell_type": "code",
   "execution_count": 163,
   "metadata": {},
   "outputs": [],
   "source": [
    "mf = commits[0].modified_files[-1]\n",
    "added = mf.diff_parsed[\"added\"]\n",
    "deleted = mf.diff_parsed[\"deleted\"] \n",
    "new_methods = mf.methods \n",
    "old_methods = mf.methods_before"
   ]
  },
  {
   "cell_type": "code",
   "execution_count": 164,
   "metadata": {},
   "outputs": [],
   "source": [
    "method_changed_new = {\n",
    "    y \n",
    "    for x in added \n",
    "    for y in new_methods \n",
    "    if y.start_line <= x[0] <= y.end_line # meaning whether a method include that lines \n",
    "}\n",
    "\n",
    "method_changed_old = {\n",
    "    y \n",
    "    for x in deleted \n",
    "    for y in old_methods \n",
    "    if y.start_line <= x[0] <= y.end_line # meaning whether a method include that lines \n",
    "}"
   ]
  },
  {
   "cell_type": "code",
   "execution_count": 165,
   "metadata": {},
   "outputs": [
    {
     "data": {
      "text/plain": [
       "(83, 83)"
      ]
     },
     "execution_count": 165,
     "metadata": {},
     "output_type": "execute_result"
    }
   ],
   "source": [
    "len(mf.methods_before), len(mf.methods)"
   ]
  },
  {
   "cell_type": "code",
   "execution_count": 116,
   "metadata": {},
   "outputs": [
    {
     "name": "stdout",
     "output_type": "stream",
     "text": [
      "@@ -348,6 +348,18 @@ public class NumberUtilsTest {\n",
      "         this.testCreateBigIntegerFailure(\"\\b\\t\\n\\f\\r\");\n",
      "         // Funky whitespaces\n",
      "         this.testCreateBigIntegerFailure(\"\\u00A0\\uFEFF\\u000B\\u000C\\u001C\\u001D\\u001E\\u001F\");\n",
      "+        assertEquals(\"createBigInteger(String) failed\", new BigInteger(\"255\"), NumberUtils.createBigInteger(\"0xff\"));\n",
      "+        assertEquals(\"createBigInteger(String) failed\", new BigInteger(\"255\"), NumberUtils.createBigInteger(\"#ff\"));\n",
      "+        assertEquals(\"createBigInteger(String) failed\", new BigInteger(\"-255\"), NumberUtils.createBigInteger(\"-0xff\"));\n",
      "+        assertEquals(\"createBigInteger(String) failed\", new BigInteger(\"255\"), NumberUtils.createBigInteger(\"0377\"));\n",
      "+        assertEquals(\"createBigInteger(String) failed\", new BigInteger(\"-255\"), NumberUtils.createBigInteger(\"-0377\"));\n",
      "+        assertEquals(\"createBigInteger(String) failed\", new BigInteger(\"-255\"), NumberUtils.createBigInteger(\"-0377\"));\n",
      "+        assertEquals(\"createBigInteger(String) failed\", new BigInteger(\"-0\"), NumberUtils.createBigInteger(\"-0\"));\n",
      "+        assertEquals(\"createBigInteger(String) failed\", new BigInteger(\"0\"), NumberUtils.createBigInteger(\"0\"));\n",
      "+        testCreateBigIntegerFailure(\"#\");\n",
      "+        testCreateBigIntegerFailure(\"-#\");\n",
      "+        testCreateBigIntegerFailure(\"0x\");\n",
      "+        testCreateBigIntegerFailure(\"-0x\");\n",
      "     }\n",
      " \n",
      "     protected void testCreateBigIntegerFailure(String str) {\n",
      "\n"
     ]
    }
   ],
   "source": [
    "print(commits[-1].modified_files[-1].diff)"
   ]
  },
  {
   "cell_type": "code",
   "execution_count": 178,
   "metadata": {},
   "outputs": [
    {
     "data": {
      "text/plain": [
       "True"
      ]
     },
     "execution_count": 178,
     "metadata": {},
     "output_type": "execute_result"
    }
   ],
   "source": [
    "mf.change_type in [pydriller.ModificationType.RENAME, pydriller.ModificationType."
   ]
  },
  {
   "cell_type": "code",
   "execution_count": 172,
   "metadata": {},
   "outputs": [
    {
     "data": {
      "text/plain": [
       "str"
      ]
     },
     "execution_count": 172,
     "metadata": {},
     "output_type": "execute_result"
    }
   ],
   "source": [
    "type(commits[0].modified_files[-1].old_path)"
   ]
  },
  {
   "cell_type": "code",
   "execution_count": 167,
   "metadata": {},
   "outputs": [
    {
     "name": "stdout",
     "output_type": "stream",
     "text": [
      "@@ -348,6 +348,18 @@ public class NumberUtilsTest {\n",
      "         this.testCreateBigIntegerFailure(\"\\b\\t\\n\\f\\r\");\n",
      "         // Funky whitespaces\n",
      "         this.testCreateBigIntegerFailure(\"\\u00A0\\uFEFF\\u000B\\u000C\\u001C\\u001D\\u001E\\u001F\");\n",
      "+        assertEquals(\"createBigInteger(String) failed\", new BigInteger(\"255\"), NumberUtils.createBigInteger(\"0xff\"));\n",
      "+        assertEquals(\"createBigInteger(String) failed\", new BigInteger(\"255\"), NumberUtils.createBigInteger(\"#ff\"));\n",
      "+        assertEquals(\"createBigInteger(String) failed\", new BigInteger(\"-255\"), NumberUtils.createBigInteger(\"-0xff\"));\n",
      "+        assertEquals(\"createBigInteger(String) failed\", new BigInteger(\"255\"), NumberUtils.createBigInteger(\"0377\"));\n",
      "+        assertEquals(\"createBigInteger(String) failed\", new BigInteger(\"-255\"), NumberUtils.createBigInteger(\"-0377\"));\n",
      "+        assertEquals(\"createBigInteger(String) failed\", new BigInteger(\"-255\"), NumberUtils.createBigInteger(\"-0377\"));\n",
      "+        assertEquals(\"createBigInteger(String) failed\", new BigInteger(\"-0\"), NumberUtils.createBigInteger(\"-0\"));\n",
      "+        assertEquals(\"createBigInteger(String) failed\", new BigInteger(\"0\"), NumberUtils.createBigInteger(\"0\"));\n",
      "+        testCreateBigIntegerFailure(\"#\");\n",
      "+        testCreateBigIntegerFailure(\"-#\");\n",
      "+        testCreateBigIntegerFailure(\"0x\");\n",
      "+        testCreateBigIntegerFailure(\"-0x\");\n",
      "     }\n",
      " \n",
      "     protected void testCreateBigIntegerFailure(String str) {\n",
      "\n"
     ]
    }
   ],
   "source": [
    "print(commits[0].modified_files[-1].diff)"
   ]
  },
  {
   "cell_type": "code",
   "execution_count": 156,
   "metadata": {},
   "outputs": [],
   "source": [
    "import sys \n",
    "\n",
    "sys.path.append('..')\n",
    "import utils.analysis_utils as analysis_utils \n",
    "project = 'Lang'\n",
    "NEED_TO_FILTER_OPS = None \n",
    "NEED_TO_FOUCS_OPS = ['MATH','CONDITIONALS_BOUNDARY',\n",
    "    'INCREMENTS','INVERT_NEGS','NEGATE_CONDITIONALS','VOID_METHOD_CALLS','PRIMITIVE_RETURNS','EMPTY_RETURNS',\n",
    "    'FALSE_RETURNS','TRUE_RETURNS','NULL_RETURNS',]\n",
    "\n",
    "_, _, mapped_to_uniq_mutK = analysis_utils.group_same_mutants(\n",
    "    '/Users/jeongju.sohn/workdir/mutBugInducing/output/pit/remote/final_latest', \n",
    "    project, '19b63720', \n",
    "    needToFocusOps=NEED_TO_FOUCS_OPS,\n",
    "    needToFilterOps=NEED_TO_FILTER_OPS, \n",
    "    regen_uniq=True)"
   ]
  },
  {
   "cell_type": "code",
   "execution_count": 158,
   "metadata": {},
   "outputs": [
    {
     "data": {
      "text/plain": [
       "'src.main.java.org.apache.commons.lang3.StringUtils-13'"
      ]
     },
     "execution_count": 158,
     "metadata": {},
     "output_type": "execute_result"
    }
   ],
   "source": [
    "mapped_to_uniq_mutK['src.main.java.org.apache.commons.lang3.StringUtils-13']"
   ]
  },
  {
   "cell_type": "code",
   "execution_count": 159,
   "metadata": {},
   "outputs": [
    {
     "name": "stdout",
     "output_type": "stream",
     "text": [
      "src.main.java.org.apache.commons.lang3.StringUtils-23\n",
      "src.main.java.org.apache.commons.lang3.StringUtils-13\n"
     ]
    }
   ],
   "source": [
    "for k,v in mapped_to_uniq_mutK.items():\n",
    "    if v == 'src.main.java.org.apache.commons.lang3.StringUtils-13':\n",
    "        print (k)"
   ]
  }
 ],
 "metadata": {
  "kernelspec": {
   "display_name": ".venv",
   "language": "python",
   "name": "python3"
  },
  "language_info": {
   "codemirror_mode": {
    "name": "ipython",
    "version": 3
   },
   "file_extension": ".py",
   "mimetype": "text/x-python",
   "name": "python",
   "nbconvert_exporter": "python",
   "pygments_lexer": "ipython3",
   "version": "3.9.16"
  },
  "orig_nbformat": 4
 },
 "nbformat": 4,
 "nbformat_minor": 2
}
