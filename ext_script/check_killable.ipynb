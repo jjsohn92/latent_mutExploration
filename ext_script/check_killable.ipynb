{
 "cells": [
  {
   "cell_type": "code",
   "execution_count": 1,
   "metadata": {},
   "outputs": [],
   "source": [
    "%load_ext autoreload\n",
    "%autoreload 2"
   ]
  },
  {
   "cell_type": "code",
   "execution_count": 3,
   "metadata": {},
   "outputs": [],
   "source": [
    "import os \n",
    "import pandas as pd \n",
    "import sys \n",
    "from tqdm import tqdm \n"
   ]
  },
  {
   "cell_type": "code",
   "execution_count": 8,
   "metadata": {},
   "outputs": [],
   "source": [
    "sys.path.append(\"../\")"
   ]
  },
  {
   "cell_type": "code",
   "execution_count": 19,
   "metadata": {},
   "outputs": [],
   "source": [
    "datadir = \"../output/evaluation/killable_check\"\n",
    "projects = ['Lang', 'Math', 'Time', 'Compress', 'Cli', 'Codec', #'Gson', \n",
    "            'Closure', 'Collections', 'Jsoup', 'Csv', #'Mockito', \n",
    "            'JxPath', 'JacksonXml', 'JacksonCore']#, 'JacksonDatabind']"
   ]
  },
  {
   "cell_type": "code",
   "execution_count": 7,
   "metadata": {},
   "outputs": [
    {
     "data": {
      "text/plain": [
       "14"
      ]
     },
     "execution_count": 7,
     "metadata": {},
     "output_type": "execute_result"
    }
   ],
   "source": [
    "len(projects)"
   ]
  },
  {
   "cell_type": "markdown",
   "metadata": {},
   "source": [
    "### Checking the statistics of candidates of latent mutants killable at the point of introduciton \n",
    "\n",
    "* all latent mutants \n",
    "\n",
    "* sampling criteria: between numsel and percentage, percentage has the priority, as long as it would be larger than min_numsel. So, min_numSel, perc, numSel\n",
    "    - min_numsel: the minium number of selected mutants. Currently, 10 \n",
    "    - numsel: the number of selected mutants \n",
    "    - percentage: the ratio of selected mutants. If percentage * # numbers < numsel, then we select percentage * # numbers \n",
    "\n",
    "* candidate file: \n",
    "    - {project}.target_latentmuts.pkl: contains all candidates \n",
    "    - {project}.{col_name}_perc{perc}.pkl: contains perc% of randomly sampled candidates\n"
   ]
  },
  {
   "cell_type": "code",
   "execution_count": 10,
   "metadata": {},
   "outputs": [],
   "source": [
    "# set defects4j environment \n",
    "os.environ['D4J_HOME'] = '/Users/jeongju.sohn/workdir/tools/defects4j'"
   ]
  },
  {
   "cell_type": "code",
   "execution_count": 16,
   "metadata": {},
   "outputs": [],
   "source": [
    "from check_killable_atIntro import old_outputdir, get_latent_mut_data"
   ]
  },
  {
   "cell_type": "code",
   "execution_count": 20,
   "metadata": {},
   "outputs": [
    {
     "name": "stderr",
     "output_type": "stream",
     "text": [
      "2024-01-31 10:53:07,198 Start collecting latent mutant information\n",
      "2024-01-31 10:53:07,292 latent mutant data and respective failing test data collected\n",
      "2024-01-31 10:53:07,297 latent mutant data and respective failing test data merged\n",
      "2024-01-31 10:53:07,308 Start collecting latent mutant information\n",
      "2024-01-31 10:53:07,394 latent mutant data and respective failing test data collected\n",
      "2024-01-31 10:53:07,401 latent mutant data and respective failing test data merged\n",
      "2024-01-31 10:53:07,406 Start collecting latent mutant information\n",
      "2024-01-31 10:53:07,424 latent mutant data and respective failing test data collected\n",
      "2024-01-31 10:53:07,429 latent mutant data and respective failing test data merged\n",
      "2024-01-31 10:53:07,440 Start collecting latent mutant information\n",
      "2024-01-31 10:53:07,501 latent mutant data and respective failing test data collected\n",
      "2024-01-31 10:53:07,506 latent mutant data and respective failing test data merged\n",
      "2024-01-31 10:53:07,511 Start collecting latent mutant information\n",
      "2024-01-31 10:53:07,525 latent mutant data and respective failing test data collected\n",
      "2024-01-31 10:53:07,530 latent mutant data and respective failing test data merged\n",
      "2024-01-31 10:53:07,536 Start collecting latent mutant information\n",
      "2024-01-31 10:53:07,561 latent mutant data and respective failing test data collected\n",
      "2024-01-31 10:53:07,566 latent mutant data and respective failing test data merged\n",
      "2024-01-31 10:53:07,579 Start collecting latent mutant information\n",
      "2024-01-31 10:53:07,790 latent mutant data and respective failing test data collected\n",
      "2024-01-31 10:53:07,795 latent mutant data and respective failing test data merged\n",
      "2024-01-31 10:53:07,800 Start collecting latent mutant information\n",
      "2024-01-31 10:53:07,809 latent mutant data and respective failing test data collected\n",
      "2024-01-31 10:53:07,814 latent mutant data and respective failing test data merged\n",
      "2024-01-31 10:53:07,822 Start collecting latent mutant information\n",
      "2024-01-31 10:53:07,906 latent mutant data and respective failing test data collected\n",
      "2024-01-31 10:53:07,910 latent mutant data and respective failing test data merged\n",
      "2024-01-31 10:53:07,915 Start collecting latent mutant information\n",
      "2024-01-31 10:53:07,936 latent mutant data and respective failing test data collected\n",
      "2024-01-31 10:53:07,941 latent mutant data and respective failing test data merged\n",
      "2024-01-31 10:53:07,946 Start collecting latent mutant information\n",
      "2024-01-31 10:53:07,954 latent mutant data and respective failing test data collected\n",
      "2024-01-31 10:53:07,959 latent mutant data and respective failing test data merged\n",
      "2024-01-31 10:53:07,964 Start collecting latent mutant information\n",
      "2024-01-31 10:53:07,974 latent mutant data and respective failing test data collected\n",
      "2024-01-31 10:53:07,979 latent mutant data and respective failing test data merged\n",
      "2024-01-31 10:53:07,990 Start collecting latent mutant information\n",
      "2024-01-31 10:53:08,046 latent mutant data and respective failing test data collected\n",
      "2024-01-31 10:53:08,051 latent mutant data and respective failing test data merged\n"
     ]
    }
   ],
   "source": [
    "outputdir = \"../output/evaluation\"\n",
    "num_stats = []\n",
    "latent_mut_df_proj = {}\n",
    "for project in projects:\n",
    "    # for \n",
    "    mut_propa_stat_debt_file = os.path.join(\n",
    "        outputdir, \n",
    "        f\"processed/{project}.indv_mut_propagation_status_and_debt.csv\") \n",
    "    df = pd.read_csv(mut_propa_stat_debt_file)\n",
    "    df = df.loc[df.status == 'latent'] \n",
    "    latent_mut_df = get_latent_mut_data(outputdir, project)\n",
    "    latent_mut_df_proj[project] = latent_mut_df\n",
    "    if latent_mut_df is not None:\n",
    "        n_latent_mut_df = latent_mut_df.shape[0]\n",
    "    else:\n",
    "        n_latent_mut_df = 0 \n",
    "    num_stats.append([project, df.shape[0], n_latent_mut_df])\n",
    "num_stats = pd.DataFrame(num_stats, columns = ['project', 'org_num', 'appr_num'])"
   ]
  },
  {
   "cell_type": "code",
   "execution_count": 24,
   "metadata": {},
   "outputs": [
    {
     "data": {
      "text/html": [
       "<div>\n",
       "<style scoped>\n",
       "    .dataframe tbody tr th:only-of-type {\n",
       "        vertical-align: middle;\n",
       "    }\n",
       "\n",
       "    .dataframe tbody tr th {\n",
       "        vertical-align: top;\n",
       "    }\n",
       "\n",
       "    .dataframe thead th {\n",
       "        text-align: right;\n",
       "    }\n",
       "</style>\n",
       "<table border=\"1\" class=\"dataframe\">\n",
       "  <thead>\n",
       "    <tr style=\"text-align: right;\">\n",
       "      <th></th>\n",
       "      <th>project</th>\n",
       "      <th>org_num</th>\n",
       "      <th>appr_num</th>\n",
       "    </tr>\n",
       "  </thead>\n",
       "  <tbody>\n",
       "    <tr>\n",
       "      <th>0</th>\n",
       "      <td>Lang</td>\n",
       "      <td>78</td>\n",
       "      <td>71</td>\n",
       "    </tr>\n",
       "    <tr>\n",
       "      <th>1</th>\n",
       "      <td>Math</td>\n",
       "      <td>163</td>\n",
       "      <td>144</td>\n",
       "    </tr>\n",
       "    <tr>\n",
       "      <th>2</th>\n",
       "      <td>Time</td>\n",
       "      <td>9</td>\n",
       "      <td>9</td>\n",
       "    </tr>\n",
       "    <tr>\n",
       "      <th>3</th>\n",
       "      <td>Compress</td>\n",
       "      <td>138</td>\n",
       "      <td>136</td>\n",
       "    </tr>\n",
       "    <tr>\n",
       "      <th>4</th>\n",
       "      <td>Cli</td>\n",
       "      <td>15</td>\n",
       "      <td>13</td>\n",
       "    </tr>\n",
       "    <tr>\n",
       "      <th>5</th>\n",
       "      <td>Codec</td>\n",
       "      <td>24</td>\n",
       "      <td>24</td>\n",
       "    </tr>\n",
       "    <tr>\n",
       "      <th>6</th>\n",
       "      <td>Closure</td>\n",
       "      <td>60</td>\n",
       "      <td>58</td>\n",
       "    </tr>\n",
       "    <tr>\n",
       "      <th>8</th>\n",
       "      <td>Jsoup</td>\n",
       "      <td>81</td>\n",
       "      <td>81</td>\n",
       "    </tr>\n",
       "    <tr>\n",
       "      <th>9</th>\n",
       "      <td>Csv</td>\n",
       "      <td>6</td>\n",
       "      <td>6</td>\n",
       "    </tr>\n",
       "    <tr>\n",
       "      <th>12</th>\n",
       "      <td>JacksonCore</td>\n",
       "      <td>61</td>\n",
       "      <td>60</td>\n",
       "    </tr>\n",
       "  </tbody>\n",
       "</table>\n",
       "</div>"
      ],
      "text/plain": [
       "        project  org_num  appr_num\n",
       "0          Lang       78        71\n",
       "1          Math      163       144\n",
       "2          Time        9         9\n",
       "3      Compress      138       136\n",
       "4           Cli       15        13\n",
       "5         Codec       24        24\n",
       "6       Closure       60        58\n",
       "8         Jsoup       81        81\n",
       "9           Csv        6         6\n",
       "12  JacksonCore       61        60"
      ]
     },
     "execution_count": 24,
     "metadata": {},
     "output_type": "execute_result"
    }
   ],
   "source": [
    "num_stats.loc[num_stats.org_num > 0]"
   ]
  },
  {
   "cell_type": "markdown",
   "metadata": {},
   "source": [
    "### Compare with the candidates "
   ]
  },
  {
   "cell_type": "code",
   "execution_count": 32,
   "metadata": {},
   "outputs": [],
   "source": [
    "candidates, sampled = {}, {}\n",
    "n_targets, n_sampled = [], []\n",
    "for project in projects:\n",
    "    target_datafile = os.path.join(datadir, f\"{project}.target_latentmuts.pkl\")\n",
    "    if not os.path.exists(target_datafile):\n",
    "        n_targets.append(0)\n",
    "        n_sampled.append(0)\n",
    "        continue \n",
    "    target_df = pd.read_pickle(target_datafile)\n",
    "    sampled_datafile = os.path.join(datadir, f\"{project}.debt_time_perc50.pkl\")\n",
    "    sampled_df = pd.read_pickle(sampled_datafile)\n",
    "    candidates[project] = target_df\n",
    "    sampled[project] = sampled_df\n",
    "    n_targets.append(target_df.shape[0])\n",
    "    n_sampled.append(sampled_df.shape[0])\n"
   ]
  },
  {
   "cell_type": "code",
   "execution_count": 33,
   "metadata": {},
   "outputs": [],
   "source": [
    "# update num stats\n",
    "num_stats['cand_num'] = n_targets\n",
    "num_stats['sampled_num'] = n_sampled"
   ]
  },
  {
   "cell_type": "code",
   "execution_count": 35,
   "metadata": {},
   "outputs": [
    {
     "name": "stdout",
     "output_type": "stream",
     "text": [
      "        project  org_num  appr_num  cand_num  sampled_num\n",
      "0          Lang       78        71        29           15\n",
      "1          Math      163       144        29           20\n",
      "2          Time        9         9         9            9\n",
      "3      Compress      138       136        43           20\n",
      "4           Cli       15        13         4            4\n",
      "5         Codec       24        24         6            6\n",
      "6       Closure       60        58        16           16\n",
      "7   Collections        0         0         0            0\n",
      "8         Jsoup       81        81        30           20\n",
      "9           Csv        6         6         6            6\n",
      "10       JxPath        0         0         0            0\n",
      "11   JacksonXml        0         0         0            0\n",
      "12  JacksonCore       61        60         3            3\n"
     ]
    }
   ],
   "source": [
    "print(num_stats)"
   ]
  },
  {
   "cell_type": "code",
   "execution_count": 37,
   "metadata": {},
   "outputs": [
    {
     "data": {
      "text/html": [
       "<div>\n",
       "<style scoped>\n",
       "    .dataframe tbody tr th:only-of-type {\n",
       "        vertical-align: middle;\n",
       "    }\n",
       "\n",
       "    .dataframe tbody tr th {\n",
       "        vertical-align: top;\n",
       "    }\n",
       "\n",
       "    .dataframe thead th {\n",
       "        text-align: right;\n",
       "    }\n",
       "</style>\n",
       "<table border=\"1\" class=\"dataframe\">\n",
       "  <thead>\n",
       "    <tr style=\"text-align: right;\">\n",
       "      <th></th>\n",
       "      <th>project</th>\n",
       "      <th>org_num</th>\n",
       "      <th>appr_num</th>\n",
       "      <th>cand_num</th>\n",
       "      <th>sampled_num</th>\n",
       "    </tr>\n",
       "  </thead>\n",
       "  <tbody>\n",
       "    <tr>\n",
       "      <th>0</th>\n",
       "      <td>Lang</td>\n",
       "      <td>78</td>\n",
       "      <td>71</td>\n",
       "      <td>29</td>\n",
       "      <td>15</td>\n",
       "    </tr>\n",
       "    <tr>\n",
       "      <th>1</th>\n",
       "      <td>Math</td>\n",
       "      <td>163</td>\n",
       "      <td>144</td>\n",
       "      <td>29</td>\n",
       "      <td>20</td>\n",
       "    </tr>\n",
       "    <tr>\n",
       "      <th>2</th>\n",
       "      <td>Time</td>\n",
       "      <td>9</td>\n",
       "      <td>9</td>\n",
       "      <td>9</td>\n",
       "      <td>9</td>\n",
       "    </tr>\n",
       "    <tr>\n",
       "      <th>3</th>\n",
       "      <td>Compress</td>\n",
       "      <td>138</td>\n",
       "      <td>136</td>\n",
       "      <td>43</td>\n",
       "      <td>20</td>\n",
       "    </tr>\n",
       "    <tr>\n",
       "      <th>4</th>\n",
       "      <td>Cli</td>\n",
       "      <td>15</td>\n",
       "      <td>13</td>\n",
       "      <td>4</td>\n",
       "      <td>4</td>\n",
       "    </tr>\n",
       "    <tr>\n",
       "      <th>5</th>\n",
       "      <td>Codec</td>\n",
       "      <td>24</td>\n",
       "      <td>24</td>\n",
       "      <td>6</td>\n",
       "      <td>6</td>\n",
       "    </tr>\n",
       "    <tr>\n",
       "      <th>6</th>\n",
       "      <td>Closure</td>\n",
       "      <td>60</td>\n",
       "      <td>58</td>\n",
       "      <td>16</td>\n",
       "      <td>16</td>\n",
       "    </tr>\n",
       "    <tr>\n",
       "      <th>8</th>\n",
       "      <td>Jsoup</td>\n",
       "      <td>81</td>\n",
       "      <td>81</td>\n",
       "      <td>30</td>\n",
       "      <td>20</td>\n",
       "    </tr>\n",
       "    <tr>\n",
       "      <th>9</th>\n",
       "      <td>Csv</td>\n",
       "      <td>6</td>\n",
       "      <td>6</td>\n",
       "      <td>6</td>\n",
       "      <td>6</td>\n",
       "    </tr>\n",
       "    <tr>\n",
       "      <th>12</th>\n",
       "      <td>JacksonCore</td>\n",
       "      <td>61</td>\n",
       "      <td>60</td>\n",
       "      <td>3</td>\n",
       "      <td>3</td>\n",
       "    </tr>\n",
       "  </tbody>\n",
       "</table>\n",
       "</div>"
      ],
      "text/plain": [
       "        project  org_num  appr_num  cand_num  sampled_num\n",
       "0          Lang       78        71        29           15\n",
       "1          Math      163       144        29           20\n",
       "2          Time        9         9         9            9\n",
       "3      Compress      138       136        43           20\n",
       "4           Cli       15        13         4            4\n",
       "5         Codec       24        24         6            6\n",
       "6       Closure       60        58        16           16\n",
       "8         Jsoup       81        81        30           20\n",
       "9           Csv        6         6         6            6\n",
       "12  JacksonCore       61        60         3            3"
      ]
     },
     "execution_count": 37,
     "metadata": {},
     "output_type": "execute_result"
    }
   ],
   "source": [
    "num_stats.loc[num_stats.cand_num > 0]"
   ]
  },
  {
   "cell_type": "code",
   "execution_count": 41,
   "metadata": {},
   "outputs": [
    {
     "name": "stdout",
     "output_type": "stream",
     "text": [
      "0     0.408451\n",
      "1     0.201389\n",
      "2     1.000000\n",
      "3     0.316176\n",
      "4     0.307692\n",
      "5     0.250000\n",
      "6     0.275862\n",
      "8     0.370370\n",
      "9     1.000000\n",
      "12    0.050000\n",
      "dtype: float64\n",
      "\n",
      "0     0.371795\n",
      "1     0.177914\n",
      "2     1.000000\n",
      "3     0.311594\n",
      "4     0.266667\n",
      "5     0.250000\n",
      "6     0.266667\n",
      "8     0.370370\n",
      "9     1.000000\n",
      "12    0.049180\n",
      "dtype: float64\n"
     ]
    }
   ],
   "source": [
    "_n_df = num_stats.loc[num_stats.cand_num > 0]\n",
    "print (_n_df.cand_num/_n_df.appr_num)\n",
    "print ()\n",
    "print (_n_df.cand_num/_n_df.org_num)"
   ]
  },
  {
   "cell_type": "markdown",
   "metadata": {},
   "source": [
    "so far, there are some"
   ]
  },
  {
   "cell_type": "code",
   "execution_count": 44,
   "metadata": {},
   "outputs": [
    {
     "data": {
      "text/plain": [
       "Index(['bid', 'mutK', 'status', 'mutOp', 'lno', 'debt_time', 'debt_nc',\n",
       "       'ftests', 'revealedAt', 'ftesthist', 'ftestpath'],\n",
       "      dtype='object')"
      ]
     },
     "execution_count": 44,
     "metadata": {},
     "output_type": "execute_result"
    }
   ],
   "source": [
    "candidates['Time'].columns "
   ]
  },
  {
   "cell_type": "code",
   "execution_count": 53,
   "metadata": {},
   "outputs": [
    {
     "data": {
      "text/plain": [
       "True"
      ]
     },
     "execution_count": 53,
     "metadata": {},
     "output_type": "execute_result"
    }
   ],
   "source": [
    "[v[-1] for v in candidates['Time'].iloc[0].ftesthist.values()][-1][-1]"
   ]
  },
  {
   "cell_type": "code",
   "execution_count": 51,
   "metadata": {},
   "outputs": [
    {
     "data": {
      "text/plain": [
       "{'org.joda.time.TestPartial_Basics#testWith_baseAndArgHaveNoRange': [['8612f9e5',\n",
       "   'src/test/java/org/joda/time/TestPartial_Basics.java',\n",
       "   True]]}"
      ]
     },
     "execution_count": 51,
     "metadata": {},
     "output_type": "execute_result"
    }
   ],
   "source": [
    "candidates['Time'].iloc[0].ftesthist"
   ]
  },
  {
   "cell_type": "code",
   "execution_count": 48,
   "metadata": {},
   "outputs": [
    {
     "data": {
      "text/plain": [
       "{'org.joda.time.TestPartial_Basics#testWith_baseAndArgHaveNoRange': 'src/test/java/org/joda/time/TestPartial_Basics.java'}"
      ]
     },
     "execution_count": 48,
     "metadata": {},
     "output_type": "execute_result"
    }
   ],
   "source": [
    "candidates['Time'].iloc[0].ftestpath[-1]"
   ]
  },
  {
   "cell_type": "code",
   "execution_count": 64,
   "metadata": {},
   "outputs": [],
   "source": [
    "def count_newly_introduced_ftests(row:pd.Series):\n",
    "    cnt = 0\n",
    "    for vs in row.ftesthist.values():\n",
    "        cnt += int(vs[-1][-1])\n",
    "    return cnt/len(row.ftestpath)"
   ]
  },
  {
   "cell_type": "code",
   "execution_count": 71,
   "metadata": {},
   "outputs": [
    {
     "name": "stdout",
     "output_type": "stream",
     "text": [
      "Lang\n",
      "\tout of 29, 7 were newly introduced tests\n",
      "Math\n",
      "\tout of 29, 21 were newly introduced tests\n",
      "Time\n",
      "\tout of 9, 6 were newly introduced tests\n",
      "Compress\n",
      "\tout of 43, 25 were newly introduced tests\n",
      "Cli\n",
      "\tout of 4, 0 were newly introduced tests\n",
      "Codec\n",
      "\tout of 6, 0 were newly introduced tests\n",
      "Closure\n",
      "\tout of 16, 10 were newly introduced tests\n",
      "Jsoup\n",
      "\tout of 30, 23 were newly introduced tests\n",
      "Csv\n",
      "\tout of 6, 4 were newly introduced tests\n",
      "JacksonCore\n",
      "\tout of 3, 3 were newly introduced tests\n"
     ]
    }
   ],
   "source": [
    "for project in projects:\n",
    "    if project not in candidates.keys(): continue\n",
    "    cnts = []\n",
    "    for _, row in candidates[project].iterrows():\n",
    "        cnt = count_newly_introduced_ftests(row)\n",
    "        cnts.append(cnt)\n",
    "    print (f\"{project}\")\n",
    "    print (f\"\\tout of {len(cnts)}, {cnts.count(1)} were newly introduced tests\")"
   ]
  },
  {
   "cell_type": "code",
   "execution_count": 87,
   "metadata": {},
   "outputs": [
    {
     "name": "stdout",
     "output_type": "stream",
     "text": [
      "[False]\n",
      "[False]\n",
      "[False]\n",
      "[False]\n",
      "[False]\n",
      "[False]\n",
      "[False]\n",
      "[False]\n",
      "[False]\n",
      "[False]\n",
      "[False]\n",
      "[False]\n",
      "[False]\n",
      "[False]\n",
      "[False]\n",
      "[False]\n",
      "[False]\n",
      "[False]\n",
      "[False]\n"
     ]
    }
   ],
   "source": [
    "for v in candidates['Lang'].iloc[11].ftesthist.values():\n",
    "    print ([av[-1] for av in v])"
   ]
  },
  {
   "cell_type": "code",
   "execution_count": 90,
   "metadata": {},
   "outputs": [
    {
     "data": {
      "text/plain": [
       "{'org.apache.commons.lang3.math.NumberUtilsTest#testCreateNumberMagnitude': [['a2de6040',\n",
       "   'src/test/java/org/apache/commons/lang3/math/NumberUtilsTest.java',\n",
       "   False],\n",
       "  ['57112a6b',\n",
       "   'src/test/java/org/apache/commons/lang3/math/NumberUtilsTest.java',\n",
       "   True]]}"
      ]
     },
     "execution_count": 90,
     "metadata": {},
     "output_type": "execute_result"
    }
   ],
   "source": [
    "candidates['Lang'].iloc[0].ftesthist"
   ]
  },
  {
   "cell_type": "code",
   "execution_count": 91,
   "metadata": {},
   "outputs": [
    {
     "data": {
      "text/plain": [
       "{'org.apache.commons.lang3.math.NumberUtilsTest#testCreateNumberMagnitude': 'src/test/java/org/apache/commons/lang3/math/NumberUtilsTest.java'}"
      ]
     },
     "execution_count": 91,
     "metadata": {},
     "output_type": "execute_result"
    }
   ],
   "source": [
    "candidates['Lang'].iloc[0].ftestpath"
   ]
  },
  {
   "cell_type": "code",
   "execution_count": null,
   "metadata": {},
   "outputs": [],
   "source": [
    "for p,candidate in candidates.items():\n",
    "    candidate.fte\n",
    "    break "
   ]
  },
  {
   "cell_type": "code",
   "execution_count": 160,
   "metadata": {},
   "outputs": [],
   "source": [
    "for project in candidates.keys():\n",
    "    for _, row in candidates[project].iterrows():\n",
    "        ftests = row.ftests.split(\",\")\n",
    "        cnts = [ftest.count('#') for ftest in ftests]\n",
    "        assert sum(cnts) == len(ftests)"
   ]
  },
  {
   "cell_type": "code",
   "execution_count": 106,
   "metadata": {},
   "outputs": [],
   "source": [
    "import utils.parser_utils as parser_utils\n",
    "import utils.file_utils as file_utils \n",
    "import javalang\n",
    "import contextlib \n"
   ]
  },
  {
   "cell_type": "code",
   "execution_count": 228,
   "metadata": {},
   "outputs": [],
   "source": [
    "content = file_utils.readFile(\"../workdir/refs/Lang1/src/test/java/org/apache/commons/lang3/math/NumberUtilsTest.java\")\n",
    "tree = parser_utils.parse(content)\n",
    "build_pos_dict, lno_to_node_dict = parser_utils.build_positon_dict(tree)"
   ]
  },
  {
   "cell_type": "code",
   "execution_count": 268,
   "metadata": {},
   "outputs": [],
   "source": [
    "def get_final_line(node: javalang.tree.Node) -> int:\n",
    "    # traverse node and find the max line\n",
    "    max_line = 0\n",
    "    for path, child in node.filter(javalang.tree.Node):\n",
    "        with contextlib.suppress(TypeError):\n",
    "            max_line = max(max_line, child.position[0])\n",
    "    return max_line\n",
    "\n",
    "def build_position_dict(tree: javalang.tree.CompilationUnit):\n",
    "    package_name = None if tree.package is None else tree.package.name\n",
    "    ret = {\"package\": package_name, \"classes\": []}\n",
    "    for path, node in tree.filter(javalang.tree.ClassDeclaration):\n",
    "        classDeclNode: javalang.tree.ClassDeclaration = node\n",
    "        class_name = classDeclNode.name\n",
    "        class_pos = (\n",
    "            classDeclNode.position[0],\n",
    "            get_final_line(classDeclNode),\n",
    "        )\n",
    "        class_dict = {\"name\": class_name, \"pos\": class_pos, \"methods\": []}\n",
    "        for method in classDeclNode.methods:\n",
    "            method_dict = {\n",
    "                \"name\": method.name,\n",
    "                \"pos\": (method.position[0], get_final_line(method)),\n",
    "                \"paramtypes\": [p.type.name for p in method.parameters],\n",
    "            }\n",
    "            class_dict[\"methods\"].append(method_dict)\n",
    "        class_dict[\"inner\"] = None\n",
    "        for prev_class_dict in ret[\"classes\"]:\n",
    "            if (\n",
    "                prev_class_dict[\"pos\"][1] >= class_pos[1]\n",
    "                and prev_class_dict[\"pos\"][0] <= class_pos[0]\n",
    "            ):\n",
    "                class_dict[\"inner\"] = prev_class_dict[\"name\"]\n",
    "                break\n",
    "        ret[\"classes\"].append(class_dict)\n",
    "    return ret"
   ]
  },
  {
   "cell_type": "code",
   "execution_count": 119,
   "metadata": {},
   "outputs": [],
   "source": [
    "for path, node in tree.filter(javalang.tree.MethodDeclaration):\n",
    "    break "
   ]
  },
  {
   "cell_type": "code",
   "execution_count": 132,
   "metadata": {},
   "outputs": [],
   "source": [
    "max_line = 0\n",
    "for _, child in node.filter(javalang.tree.Node):\n",
    "    with contextlib.suppress(TypeError):\n",
    "        max_line = max(max_line, child.position[0])"
   ]
  },
  {
   "cell_type": "code",
   "execution_count": 151,
   "metadata": {},
   "outputs": [
    {
     "data": {
      "text/plain": [
       "'org/apache/commons/lang3/math'"
      ]
     },
     "execution_count": 151,
     "metadata": {},
     "output_type": "execute_result"
    }
   ],
   "source": [
    "os.path.dirname(\"workdir/refs/Lang1/src/test/java/org/apache/commons/lang3/math/NumberUtilsTest.java\"[\n",
    "    \"workdir/refs/Lang1/src/test/java/org/apache/commons/lang3/math/NumberUtilsTest.java\".index((tree.package.name).replace(\".\", \"/\")):])\n"
   ]
  },
  {
   "cell_type": "code",
   "execution_count": 103,
   "metadata": {},
   "outputs": [],
   "source": [
    "t = \"testToIntStringI\" "
   ]
  },
  {
   "cell_type": "code",
   "execution_count": 423,
   "metadata": {},
   "outputs": [],
   "source": [
    "content = file_utils.readFile(\"../workdir/refs/Lang1/src/test/java/org/apache/commons/lang3/math/NumberUtilsTest.java\")\n",
    "tree = parser_utils.parse(content)"
   ]
  },
  {
   "cell_type": "code",
   "execution_count": 411,
   "metadata": {},
   "outputs": [],
   "source": [
    "import javalang \n",
    "\n",
    "parent_child = {}\n",
    "\n",
    "for path, node in tree.filter(javalang.tree.ClassDeclaration):\n",
    "    classDeclNode: javalang.tree.ClassDeclaration = node\n",
    "    class_name = classDeclNode.name \n",
    "    if class_name == 'NumberUtilsTest':\n",
    "        for method in classDeclNode.methods:\n",
    "            if method.name == 'testToIntStringI':\n",
    "                ...\n",
    "                pass \n",
    "        pass \n"
   ]
  },
  {
   "cell_type": "code",
   "execution_count": 412,
   "metadata": {},
   "outputs": [
    {
     "data": {
      "text/plain": [
       "(Position(line=37, column=8), 1401)"
      ]
     },
     "execution_count": 412,
     "metadata": {},
     "output_type": "execute_result"
    }
   ],
   "source": [
    "node.position, get_final_line(node)"
   ]
  },
  {
   "cell_type": "code",
   "execution_count": 426,
   "metadata": {},
   "outputs": [
    {
     "data": {
      "text/plain": [
       "(1382, 1401)"
      ]
     },
     "execution_count": 426,
     "metadata": {},
     "output_type": "execute_result"
    }
   ],
   "source": [
    "node.methods[-1].position[0], get_final_line(node.methods[-1])"
   ]
  },
  {
   "cell_type": "code",
   "execution_count": 413,
   "metadata": {},
   "outputs": [],
   "source": [
    "childs = [child for _, child in node]"
   ]
  },
  {
   "cell_type": "code",
   "execution_count": 433,
   "metadata": {},
   "outputs": [],
   "source": [
    "def get_method_body(file_content:str, start_lno:int, end_lno:int) -> str:\n",
    "  \"\"\"\n",
    "  this is something that needs to be implemented\n",
    "  \"\"\"\n",
    "  lines = file_content.split(\"\\n\")\n",
    "  init_body = \"\\n\".join(lines[start_lno-1:end_lno]) \n",
    "  cnt_close_bracket = init_body.count(\"}\")\n",
    "  cnt_open_bracket = init_body.count(\"{\")\n",
    "\n",
    "  n_missing_bracket = cnt_open_bracket - cnt_close_bracket\n",
    "  print (n_missing_bracket)\n",
    "  additional = []\n",
    "  for line in lines[end_lno:]: \n",
    "    additional.append(line)\n",
    "    if \"}\" in line:\n",
    "      n_missing_bracket -= 1 # also need to update  \n",
    "    if \"{\" in line: \n",
    "      n_missing_bracket += 1\n",
    "    # check whether to end\n",
    "    if n_missing_bracket == 0:\n",
    "      break \n",
    "  init_body += \"\\n\" + \"\\n\".join(additional)\n",
    "  return init_body"
   ]
  },
  {
   "cell_type": "code",
   "execution_count": 434,
   "metadata": {},
   "outputs": [
    {
     "name": "stdout",
     "output_type": "stream",
     "text": [
      "1\n",
      "    public void testLang381() {\n",
      "        assertTrue(Double.isNaN(NumberUtils.min(1.2, 2.5, Double.NaN)));\n",
      "        assertTrue(Double.isNaN(NumberUtils.max(1.2, 2.5, Double.NaN)));\n",
      "        assertTrue(Float.isNaN(NumberUtils.min(1.2f, 2.5f, Float.NaN)));\n",
      "        assertTrue(Float.isNaN(NumberUtils.max(1.2f, 2.5f, Float.NaN)));\n",
      "\n",
      "        final double[] a = new double[] { 1.2, Double.NaN, 3.7, 27.0, 42.0, Double.NaN };\n",
      "        assertTrue(Double.isNaN(NumberUtils.max(a)));\n",
      "        assertTrue(Double.isNaN(NumberUtils.min(a)));\n",
      "\n",
      "        final double[] b = new double[] { Double.NaN, 1.2, Double.NaN, 3.7, 27.0, 42.0, Double.NaN };\n",
      "        assertTrue(Double.isNaN(NumberUtils.max(b)));\n",
      "        assertTrue(Double.isNaN(NumberUtils.min(b)));\n",
      "\n",
      "        final float[] aF = new float[] { 1.2f, Float.NaN, 3.7f, 27.0f, 42.0f, Float.NaN };\n",
      "        assertTrue(Float.isNaN(NumberUtils.max(aF)));\n",
      "\n",
      "        final float[] bF = new float[] { Float.NaN, 1.2f, Float.NaN, 3.7f, 27.0f, 42.0f, Float.NaN };\n",
      "\n",
      "        assertTrue(Float.isNaN(NumberUtils.max(bF))\n",
      "\t)\n",
      "\t;\n",
      "\t/*if (true){\n",
      "\t\tif (true){\n",
      "\t\t\tint v = 1;\n",
      "\t\t}\n",
      "\t}// haha\n",
      "\t*/\n",
      "    }\n"
     ]
    }
   ],
   "source": [
    "print(get_method_body(content, 1382, 1401))"
   ]
  },
  {
   "cell_type": "code",
   "execution_count": 340,
   "metadata": {},
   "outputs": [],
   "source": [
    "def get_mth_final_line(node: javalang.tree.Node) -> int:\n",
    "    # traverse node and find the max line\n",
    "    max_line = 0\n",
    "    for path, mth in node.filter(javalang.tree.MethodDeclaration):#javalang.tree.Node):\n",
    "        #with contextlib.suppress(TypeError):\n",
    "        #    max_line = max(max_line, child.position[0])\n",
    "        mth_last_lno = get_final_line(mth) \n",
    "        with contextlib.suppress(TypeError):\n",
    "            max_line = max(max_line, mth_last_lno)\n",
    "    return max_line"
   ]
  },
  {
   "cell_type": "code",
   "execution_count": null,
   "metadata": {},
   "outputs": [],
   "source": [
    "for path, node in tree.filter(javalang.tree.MethodDeclaration):\n",
    "    print (node)"
   ]
  },
  {
   "cell_type": "code",
   "execution_count": 408,
   "metadata": {},
   "outputs": [],
   "source": [
    "mth_last_lnos = []\n",
    "methods = []\n",
    "for mth in node.methods:\n",
    "    mth_last_lno = get_final_line(mth)\n",
    "    mth_last_lnos.append(mth_last_lno)\n",
    "    "
   ]
  },
  {
   "cell_type": "code",
   "execution_count": 409,
   "metadata": {},
   "outputs": [
    {
     "data": {
      "text/plain": [
       "(1401, [1371, 1378, 1401])"
      ]
     },
     "execution_count": 409,
     "metadata": {},
     "output_type": "execute_result"
    }
   ],
   "source": [
    "max(mth_last_lnos), mth_last_lnos[-3:]"
   ]
  },
  {
   "cell_type": "code",
   "execution_count": 387,
   "metadata": {},
   "outputs": [
    {
     "data": {
      "text/plain": [
       "(Position(line=1382, column=12), 1404)"
      ]
     },
     "execution_count": 387,
     "metadata": {},
     "output_type": "execute_result"
    }
   ],
   "source": [
    "node.methods[-1].position, get_final_line(node.methods[-1])"
   ]
  },
  {
   "cell_type": "code",
   "execution_count": 346,
   "metadata": {},
   "outputs": [
    {
     "data": {
      "text/plain": [
       "1404"
      ]
     },
     "execution_count": 346,
     "metadata": {},
     "output_type": "execute_result"
    }
   ],
   "source": [
    "get_final_line(node.methods[-1])"
   ]
  },
  {
   "cell_type": "code",
   "execution_count": 388,
   "metadata": {},
   "outputs": [],
   "source": [
    "mth = node.methods[-1]"
   ]
  },
  {
   "cell_type": "code",
   "execution_count": 384,
   "metadata": {},
   "outputs": [],
   "source": [
    "def get_final_line(node: javalang.tree.Node) -> int:\n",
    "    # traverse node and find the max line\n",
    "    max_line = 0\n",
    "    for path, child in node.filter(javalang.tree.Node):\n",
    "        with contextlib.suppress(TypeError):\n",
    "            max_line = max(max_line, child.position[0])\n",
    "    return max_line"
   ]
  },
  {
   "cell_type": "code",
   "execution_count": 389,
   "metadata": {},
   "outputs": [
    {
     "data": {
      "text/plain": [
       "(Position(line=1382, column=12), 1404)"
      ]
     },
     "execution_count": 389,
     "metadata": {},
     "output_type": "execute_result"
    }
   ],
   "source": [
    "mth.position, get_final_line(mth)"
   ]
  },
  {
   "cell_type": "code",
   "execution_count": 390,
   "metadata": {},
   "outputs": [],
   "source": [
    "met = False \n",
    "next_node = None \n",
    "idx_a, idx_b = None, None\n",
    "for i, (_, child) in enumerate(node):\n",
    "    if met:\n",
    "        next_node =child \n",
    "        idx_b = i\n",
    "        break \n",
    "    if child == mth: \n",
    "        met =True \n",
    "        idx_a = i\n"
   ]
  },
  {
   "cell_type": "code",
   "execution_count": 391,
   "metadata": {},
   "outputs": [
    {
     "data": {
      "text/plain": [
       "(Annotation(element=None, name=Test), 4991, 4992)"
      ]
     },
     "execution_count": 391,
     "metadata": {},
     "output_type": "execute_result"
    }
   ],
   "source": [
    "next_node, idx_a, idx_b"
   ]
  },
  {
   "cell_type": "code",
   "execution_count": 394,
   "metadata": {},
   "outputs": [
    {
     "data": {
      "text/plain": [
       "(1404, 1404)"
      ]
     },
     "execution_count": 394,
     "metadata": {},
     "output_type": "execute_result"
    }
   ],
   "source": [
    "get_final_line(node), get_final_line(mth)"
   ]
  },
  {
   "cell_type": "code",
   "execution_count": 290,
   "metadata": {},
   "outputs": [
    {
     "ename": "IndexError",
     "evalue": "list index out of range",
     "output_type": "error",
     "traceback": [
      "\u001b[0;31m---------------------------------------------------------------------------\u001b[0m",
      "\u001b[0;31mIndexError\u001b[0m                                Traceback (most recent call last)",
      "Cell \u001b[0;32mIn[290], line 1\u001b[0m\n\u001b[0;32m----> 1\u001b[0m get_final_line(\u001b[39mlist\u001b[39;49m(node)[\u001b[39m4991\u001b[39;49m \u001b[39m+\u001b[39;49m \u001b[39m117\u001b[39;49m][\u001b[39m1\u001b[39m])\n",
      "\u001b[0;31mIndexError\u001b[0m: list index out of range"
     ]
    }
   ],
   "source": [
    "get_final_line(list(node)[4991 + 117][1])"
   ]
  },
  {
   "cell_type": "code",
   "execution_count": 397,
   "metadata": {},
   "outputs": [
    {
     "data": {
      "text/plain": [
       "Position(line=1404, column=12)"
      ]
     },
     "execution_count": 397,
     "metadata": {},
     "output_type": "execute_result"
    }
   ],
   "source": [
    "list(node)[-1][-1].position"
   ]
  },
  {
   "cell_type": "code",
   "execution_count": 294,
   "metadata": {},
   "outputs": [
    {
     "data": {
      "text/plain": [
       "Position(line=1403, column=11)"
      ]
     },
     "execution_count": 294,
     "metadata": {},
     "output_type": "execute_result"
    }
   ],
   "source": [
    "list(node)[4991 + 117-1][1].position"
   ]
  },
  {
   "cell_type": "code",
   "execution_count": 310,
   "metadata": {},
   "outputs": [
    {
     "data": {
      "text/plain": [
       "Literal(postfix_operators=[], prefix_operators=[], qualifier=None, selectors=[], value=1)"
      ]
     },
     "execution_count": 310,
     "metadata": {},
     "output_type": "execute_result"
    }
   ],
   "source": [
    "list(mth)[-1][1]#.position"
   ]
  },
  {
   "cell_type": "code",
   "execution_count": 313,
   "metadata": {},
   "outputs": [
    {
     "data": {
      "text/plain": [
       "1"
      ]
     },
     "execution_count": 313,
     "metadata": {},
     "output_type": "execute_result"
    }
   ],
   "source": [
    "len(list(mth.filter(javalang.tree.BlockStatement)))"
   ]
  },
  {
   "cell_type": "code",
   "execution_count": 315,
   "metadata": {},
   "outputs": [],
   "source": [
    "childs = list(mth)"
   ]
  },
  {
   "cell_type": "code",
   "execution_count": 320,
   "metadata": {},
   "outputs": [],
   "source": [
    "lnos = []\n",
    "for _, child in childs:\n",
    "    if child.position is not None:\n",
    "        lnos.append(child.position[0])"
   ]
  },
  {
   "cell_type": "code",
   "execution_count": 435,
   "metadata": {},
   "outputs": [
    {
     "data": {
      "text/plain": [
       "['Lang',\n",
       " 'Math',\n",
       " 'Time',\n",
       " 'Compress',\n",
       " 'Cli',\n",
       " 'Codec',\n",
       " 'Closure',\n",
       " 'Collections',\n",
       " 'Jsoup',\n",
       " 'Csv',\n",
       " 'JxPath',\n",
       " 'JacksonXml',\n",
       " 'JacksonCore']"
      ]
     },
     "execution_count": 435,
     "metadata": {},
     "output_type": "execute_result"
    }
   ],
   "source": [
    "for project in projects:\n",
    "    datafile = os.path.join(datadir, f\"{project}.target_latentmuts.pkl\")\n",
    "    if not os.path.exists(datafile):\n",
    "        continue \n",
    "    all_datafile = os.path.join(datadir, f\"{project}.all_latentmuts.pkl\")\n",
    "\n",
    "    all_df = pd.read_pickle(all_datafile)\n",
    "    df = pd.read_pickle(datafile)\n",
    "    pass \n"
   ]
  },
  {
   "cell_type": "code",
   "execution_count": 437,
   "metadata": {},
   "outputs": [
    {
     "data": {
      "text/plain": [
       "('/Users/jeongju.sohn/workdir/mutPropRepli/ext_script',\n",
       " '../output/evaluation/killable_check')"
      ]
     },
     "execution_count": 437,
     "metadata": {},
     "output_type": "execute_result"
    }
   ],
   "source": [
    "os.getcwd(), datadir"
   ]
  }
 ],
 "metadata": {
  "kernelspec": {
   "display_name": ".venv",
   "language": "python",
   "name": "python3"
  },
  "language_info": {
   "codemirror_mode": {
    "name": "ipython",
    "version": 3
   },
   "file_extension": ".py",
   "mimetype": "text/x-python",
   "name": "python",
   "nbconvert_exporter": "python",
   "pygments_lexer": "ipython3",
   "version": "3.9.16"
  },
  "orig_nbformat": 4
 },
 "nbformat": 4,
 "nbformat_minor": 2
}
