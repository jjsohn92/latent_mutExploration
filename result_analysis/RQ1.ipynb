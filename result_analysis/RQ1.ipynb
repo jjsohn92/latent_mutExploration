{
 "cells": [
  {
   "cell_type": "code",
   "execution_count": 1,
   "metadata": {},
   "outputs": [],
   "source": [
    "%load_ext autoreload\n",
    "%autoreload 2"
   ]
  },
  {
   "cell_type": "code",
   "execution_count": 2,
   "metadata": {},
   "outputs": [],
   "source": [
    "import pandas as pd \n",
    "import os \n",
    "import numpy as np \n",
    "import sys  \n",
    "sys.path.append(\"../\")\n",
    "from utils import analysis_utils, git_utils"
   ]
  },
  {
   "cell_type": "code",
   "execution_count": 3,
   "metadata": {},
   "outputs": [],
   "source": [
    "outputdir = \"../output/evaluation/processed\"\n",
    "projects = ['Lang', 'Math', 'Time', 'Closure', 'Cli', 'Compress', 'Codec', 'Collections', 'Csv', \n",
    "    'JacksonCore', 'JacksonXml', 'JxPath', 'Jsoup']"
   ]
  },
  {
   "cell_type": "markdown",
   "metadata": {},
   "source": [
    "# RQ1. Prevalence"
   ]
  },
  {
   "cell_type": "markdown",
   "metadata": {},
   "source": [
    "### Prevalence of lived mutants"
   ]
  },
  {
   "cell_type": "code",
   "execution_count": 4,
   "metadata": {},
   "outputs": [],
   "source": [
    "def get_summarised_statistic_simple(df:pd.DataFrame, project:str):\n",
    "    def compute_perc(a, b, decimal_point):\n",
    "        return np.round(100*a/b, decimals=decimal_point) if b != 0 else 0\n",
    "    columns = ['all', 'survived', 'killed', 'no_covg', 'timed_out', 'non_viable', 'memory_error', 'run_error']\n",
    "    line = \"\"\n",
    "    decimal_point = 2    \n",
    "    df = df[~(df['all'] == 0)]\n",
    "    n_all = df['all'].sum() \n",
    "    for col in columns[:3]:\n",
    "        # agg\n",
    "        if col != 'all': # if not all, compute the percentage\n",
    "            n_sum = compute_perc(df[col].sum(), n_all, decimal_point)\n",
    "        else:\n",
    "            n_sum = n_all #df[col].sum()\n",
    "        # avg\n",
    "        if col != 'all':\n",
    "            vs = df[col].div(df['all']).values \n",
    "            vs[(vs == np.inf) | (vs == -np.inf)] = 0.\n",
    "            n_mean = np.round(np.mean(100*vs), decimals=decimal_point)\n",
    "        else:\n",
    "            n_mean = np.round(df[col].mean(), decimals=decimal_point)\n",
    "        \n",
    "        sum_stat = f\"{n_sum}\"# \\%\" \n",
    "        mean_stat = f\"{n_mean}\"\n",
    "        line += f\" & {mean_stat} & {sum_stat}\"   \n",
    "    n_sum, n_mean = 0, 0\n",
    "    for col in columns[3:]:\n",
    "        # agg \n",
    "        n_sum += df[col].sum()\n",
    "        # avg \n",
    "        vs = df[col].div(df['all']).values \n",
    "        vs[vs == np.inf] = 0.\n",
    "        n_mean += np.round(np.mean(100*vs), decimals=decimal_point)\n",
    "    # agg \n",
    "    n_sum = np.round(100 * n_sum/df['all'].sum(), decimals=decimal_point)\n",
    "    sum_stat = f\"{n_sum}\"\n",
    "    # avg \n",
    "    n_mean = np.round(n_mean, decimals=decimal_point)\n",
    "    mean_stat = f\"{n_mean}\" #\\%\" \n",
    "    line += f\" & {mean_stat} & {sum_stat}\"\n",
    "    line += \" \\\\\\\\\"\n",
    "    print (project + f\" & {len(df)}\" + line) \n",
    " "
   ]
  },
  {
   "cell_type": "code",
   "execution_count": 5,
   "metadata": {},
   "outputs": [
    {
     "name": "stdout",
     "output_type": "stream",
     "text": [
      "Lang & 49 & 346.39 & 16973 & 8.18 & 7.12 & 56.4 & 56.04 & 35.42 & 36.84 \\\\\n",
      "Math & 104 & 274.5 & 28548 & 11.74 & 10.05 & 65.93 & 61.31 & 22.33 & 28.63 \\\\\n",
      "Time & 20 & 154.3 & 3086 & 9.62 & 8.85 & 83.7 & 84.54 & 6.67 & 6.61 \\\\\n",
      "Closure & 139 & 244.38 & 33969 & 8.95 & 10.07 & 72.14 & 74.26 & 18.91 & 15.66 \\\\\n",
      "Cli & 30 & 92.0 & 2760 & 8.94 & 9.93 & 86.16 & 85.25 & 4.91 & 4.82 \\\\\n",
      "Compress & 45 & 186.02 & 8371 & 15.08 & 16.9 & 71.98 & 67.69 & 12.94 & 15.41 \\\\\n",
      "Codec & 18 & 197.83 & 3561 & 11.64 & 10.11 & 80.74 & 83.46 & 7.62 & 6.43 \\\\\n",
      "Collections & 2 & 218.0 & 436 & 11.63 & 14.91 & 28.1 & 19.72 & 60.26 & 65.37 \\\\\n",
      "Csv & 14 & 102.36 & 1433 & 8.63 & 12.35 & 84.65 & 80.88 & 6.72 & 6.77 \\\\\n",
      "JacksonCore & 22 & 888.0 & 19536 & 16.72 & 14.78 & 58.47 & 61.61 & 24.8 & 23.61 \\\\\n",
      "JacksonXml & 3 & 99.33 & 298 & 7.89 & 8.39 & 56.16 & 55.37 & 35.95 & 36.24 \\\\\n",
      "JxPath & 9 & 189.44 & 1705 & 10.33 & 9.21 & 72.64 & 72.43 & 17.02 & 18.36 \\\\\n",
      "Jsoup & 92 & 115.57 & 10632 & 14.74 & 15.17 & 74.98 & 73.78 & 10.28 & 11.05 \\\\\n",
      "Total & 547 & 240.05 & 131308 & 11.33 & 11.23 & 71.02 & 67.3 & 17.64 & 21.47 \\\\\n"
     ]
    }
   ],
   "source": [
    "dfs = []\n",
    "for i, project in enumerate(projects):\n",
    "    df = pd.read_csv(os.path.join(outputdir, f\"{project}.init_pit_mut_status.csv\"))\n",
    "    dfs.append(df)\n",
    "    get_summarised_statistic_simple(df, project)\n",
    "get_summarised_statistic_simple(pd.concat(dfs), 'Total')"
   ]
  },
  {
   "cell_type": "markdown",
   "metadata": {},
   "source": [
    "### Prevalence of latent mutants"
   ]
  },
  {
   "cell_type": "code",
   "execution_count": 6,
   "metadata": {},
   "outputs": [],
   "source": [
    "n_dfs_thr = {}\n",
    "for project in projects:\n",
    "    mut_propa_stat_debt_file = os.path.join(outputdir, f\"{project}.indv_mut_propagation_status_and_debt.csv\")\n",
    "    df = pd.read_csv(mut_propa_stat_debt_file)\n",
    "    df = df.loc[~((df.status == 'reveal') & (df.debt_time > 365))]\n",
    "    df = df.loc[~((df.status == 'surv') & (df.debt_time <= 365))]\n",
    "    rows = []\n",
    "    for bid, adf in df.groupby('bid'):\n",
    "        n_surv = (adf.status == 'non-latent').sum()\n",
    "        n_reveal = (adf.status == 'latent').sum()\n",
    "        n_dead = (adf.status == 'discard').sum()\n",
    "        n_all = len(adf)\n",
    "        rows.append([bid, n_surv, n_reveal, n_dead, n_all])\n",
    "    n_df = pd.DataFrame(rows, columns=['bid', 'n_non_latent', 'n_latent', 'n_discard', 'n_all'])\n",
    "    n_df['project'] = [project] * len(n_df)\n",
    "    n_dfs_thr[project] = n_df"
   ]
  },
  {
   "cell_type": "code",
   "execution_count": 7,
   "metadata": {},
   "outputs": [],
   "source": [
    "def get_n_changes(df:pd.DataFrame, k = 'bid'):\n",
    "    df = df[[k, 'survived']]\n",
    "    n_rev = df[k].shape[0]\n",
    "    df = df.loc[df.survived > 0]\n",
    "    n_rev_w_survived = df[k].shape[0]\n",
    "    total_surv_n = df.survived.sum()\n",
    "    ret = [n_rev, n_rev_w_survived, total_surv_n]\n",
    "    ret = [n_rev, df.shape[0], df.survived.sum()]\n",
    "    return ret, df\n",
    "\n",
    "decimal_point = 2\n",
    "dfs = []\n",
    "n_chg_pproj = {}\n",
    "val_inval_muts_dfs = []\n",
    "merged_dfs = []\n",
    "for project in projects:\n",
    "    df = pd.read_csv(os.path.join(outputdir, f\"{project}.init_pit_mut_status.csv\"))\n",
    "    ret, merged_df = get_n_changes(df)\n",
    "    merged_df['project'] = [project] * len(merged_df)\n",
    "    merged_dfs.append(merged_df)\n",
    "    n_chg_pproj[project] = ret \n",
    "    df['p_b_id'] = [f\"{project}_{bid}\" for bid in df.bid.values] \n",
    "    dfs.append(df)\n",
    "n_chg_pproj['Total'], _ = get_n_changes(pd.concat(dfs), k = 'p_b_id')\n"
   ]
  },
  {
   "cell_type": "code",
   "execution_count": 8,
   "metadata": {},
   "outputs": [
    {
     "name": "stdout",
     "output_type": "stream",
     "text": [
      "Lang & 49 & \\textbf{30}/33& \\textbf{1025}/1209& 2.6 (8.5\\%) & 78 (7.6\\%) & 25.7 (76.0\\%) & 771 (75.2\\%) & 5.9 (15.4\\%) & 176 (17.2\\%)\\\\\n",
      "Math & 104 & \\textbf{89}/92& \\textbf{2099}/2870& 1.8 (6.2\\%) & 163 (7.8\\%) & 16.4 (70.7\\%) & 1461 (69.6\\%) & 5.3 (23.0\\%) & 475 (22.6\\%)\\\\\n",
      "Time & 20 & \\textbf{19}/19& \\textbf{185}/273& 0.5 (4.7\\%) & 9 (4.9\\%) & 9.2 (94.7\\%) & 175 (94.6\\%) & 0.1 (0.7\\%) & 1 (0.5\\%)\\\\\n",
      "Closure & 139 & \\textbf{118}/118& \\textbf{2866}/3421& 0.5 (1.2\\%) & 60 (2.1\\%) & 19.2 (79.6\\%) & 2265 (79.0\\%) & 4.6 (19.2\\%) & 541 (18.9\\%)\\\\\n",
      "Cli & 30 & \\textbf{22}/25& \\textbf{237}/274& 0.7 (4.9\\%) & 15 (6.3\\%) & 8.4 (88.5\\%) & 184 (77.6\\%) & 1.7 (6.5\\%) & 38 (16.0\\%)\\\\\n",
      "Compress & 45 & \\textbf{43}/44& \\textbf{1201}/1415& 3.2 (14.3\\%) & 138 (11.5\\%) & 12.7 (51.3\\%) & 544 (45.3\\%) & 12.1 (34.5\\%) & 519 (43.2\\%)\\\\\n",
      "Codec & 18 & \\textbf{16}/18& \\textbf{282}/360& 1.5 (5.1\\%) & 24 (8.5\\%) & 9.2 (53.2\\%) & 148 (52.5\\%) & 6.9 (41.8\\%) & 110 (39.0\\%)\\\\\n",
      "Collections & 2 & \\textbf{2}/2& \\textbf{4}/65& 0.0 (0.0\\%) & 0 (0.0\\%) & 2.0 (100.0\\%) & 4 (100.0\\%) & 0.0 (0.0\\%) & 0 (0.0\\%)\\\\\n",
      "Csv & 14 & \\textbf{11}/12& \\textbf{152}/177& 0.5 (8.5\\%) & 6 (3.9\\%) & 10.8 (67.3\\%) & 119 (78.3\\%) & 2.5 (24.2\\%) & 27 (17.8\\%)\\\\\n",
      "JacksonCore & 22 & \\textbf{22}/22& \\textbf{2645}/2888& 2.8 (6.0\\%) & 61 (2.3\\%) & 15.0 (35.8\\%) & 330 (12.5\\%) & 102.5 (58.2\\%) & 2254 (85.2\\%)\\\\\n",
      "JacksonXml & 3 & \\textbf{3}/3& \\textbf{17}/25& 0.0 (0.0\\%) & 0 (0.0\\%) & 1.3 (26.7\\%) & 4 (23.5\\%) & 4.3 (73.3\\%) & 13 (76.5\\%)\\\\\n",
      "JxPath & 9 & \\textbf{9}/9& \\textbf{135}/157& 0.0 (0.0\\%) & 0 (0.0\\%) & 13.6 (95.8\\%) & 122 (90.4\\%) & 1.4 (4.2\\%) & 13 (9.6\\%)\\\\\n",
      "Jsoup & 92 & \\textbf{85}/85& \\textbf{1391}/1613& 1.0 (8.3\\%) & 81 (5.8\\%) & 6.0 (46.6\\%) & 514 (37.0\\%) & 9.4 (45.1\\%) & 796 (57.2\\%)\\\\\n",
      "Total & 547 & \\textbf{469}/482& \\textbf{12239}/14747& 1.4 (5.9\\%) & 635 (5.2\\%) & 14.2 (66.9\\%) & 6641 (54.3\\%) & 10.6 (27.1\\%) & 4963 (40.6\\%)\\\\\n"
     ]
    }
   ],
   "source": [
    "def status_distr(project, n_df, n_chg):\n",
    "    total_n = n_df.n_all.sum()\n",
    "    \n",
    "    total_n_non_latent = n_df.n_non_latent.sum()\n",
    "    total_n_latent = n_df.n_latent.sum()\n",
    "    total_n_discard = n_df.n_discard.sum()\n",
    "\n",
    "    perc_surv = np.round(100*total_n_non_latent/total_n, decimals=1)\n",
    "    perc_dead = np.round(100*total_n_discard/total_n, decimals=1)\n",
    "    perc_reveal = np.round(100*total_n_latent/total_n, decimals=1)\n",
    "\n",
    "    avg_n_non_latent = np.round(n_df.n_non_latent.mean(), decimals=1)\n",
    "    avg_n_latent = np.round(n_df.n_latent.mean(), decimals=1)\n",
    "    avg_n_discard = np.round(n_df.n_discard.mean(), decimals=1)\n",
    "\n",
    "    perc_avg_surv  = np.round(100*(n_df.n_non_latent/n_df.n_all).mean(), decimals=1)\n",
    "    perc_avg_reveal  = np.round(100*(n_df.n_latent/n_df.n_all).mean(), decimals=1)\n",
    "    perc_avg_dead  = np.round(100*(n_df.n_discard/n_df.n_all).mean(), decimals=1)\n",
    "    \n",
    "    n_bid_w_mut = n_df.loc[n_df.n_all > 0][['project', 'bid']].drop_duplicates().shape[0]\n",
    "    line = f\"{project} & {n_chg[0]}\" + \" & \\\\textbf{\" + f\"{n_bid_w_mut}\" + \"}\" + f\"/{n_chg[1]}\" +  \"& \\\\textbf{\" + f\"{total_n}\" + \"}\" + f\"/{n_chg[2]}\"\n",
    "    line += f\"& {avg_n_latent} ({perc_avg_reveal}\\%) & {total_n_latent} ({perc_reveal}\\%)\" \n",
    "    line += f\" & {avg_n_non_latent} ({perc_avg_surv}\\%) & {total_n_non_latent} ({perc_surv}\\%)\" \n",
    "    line += f\" & {avg_n_discard} ({perc_avg_dead}\\%) & {total_n_discard} ({perc_dead}\\%)\"\n",
    "\n",
    "    rows = [project, n_chg[0], (n_bid_w_mut, n_chg[1]), (total_n, n_chg[2])]\n",
    "    rows.extend([(avg_n_latent, perc_avg_reveal), (total_n_latent, perc_reveal)])\n",
    "    rows.extend([(avg_n_non_latent, perc_avg_surv), (total_n_non_latent, perc_surv)])\n",
    "    rows.extend([(avg_n_discard, perc_avg_dead), (total_n_discard, perc_dead)])\n",
    "    print (line + \"\\\\\\\\\")\n",
    "\n",
    "decimal = 1\n",
    "n_dfs = {}\n",
    "for project in projects:\n",
    "    status_distr(project, n_dfs_thr[project], n_chg_pproj[project])\n",
    "# total \n",
    "status_distr('Total', pd.concat(list(n_dfs_thr.values())), n_chg_pproj['Total'])"
   ]
  }
 ],
 "metadata": {
  "kernelspec": {
   "display_name": "Python 3",
   "language": "python",
   "name": "python3"
  },
  "language_info": {
   "codemirror_mode": {
    "name": "ipython",
    "version": 3
   },
   "file_extension": ".py",
   "mimetype": "text/x-python",
   "name": "python",
   "nbconvert_exporter": "python",
   "pygments_lexer": "ipython3",
   "version": "3.9.16"
  },
  "orig_nbformat": 4
 },
 "nbformat": 4,
 "nbformat_minor": 2
}
