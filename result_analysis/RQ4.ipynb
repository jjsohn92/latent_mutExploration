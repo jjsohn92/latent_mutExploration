{
 "cells": [
  {
   "cell_type": "code",
   "execution_count": 1,
   "metadata": {},
   "outputs": [],
   "source": [
    "%load_ext autoreload\n",
    "%autoreload 2"
   ]
  },
  {
   "cell_type": "code",
   "execution_count": 2,
   "metadata": {},
   "outputs": [],
   "source": [
    "import pandas as pd \n",
    "import os \n",
    "import numpy as np "
   ]
  },
  {
   "cell_type": "code",
   "execution_count": 3,
   "metadata": {},
   "outputs": [],
   "source": [
    "outputdir = \"../output/evaluation/processed\"\n",
    "projects = ['Lang', 'Math', 'Time', 'Closure', 'Cli', 'Compress', 'Codec', 'Collections', 'Csv', \n",
    "    'JacksonCore', 'JacksonXml', 'JxPath', 'Jsoup']"
   ]
  },
  {
   "cell_type": "markdown",
   "metadata": {},
   "source": [
    "# Lifespane of Latent Mutants"
   ]
  },
  {
   "cell_type": "code",
   "execution_count": 4,
   "metadata": {},
   "outputs": [],
   "source": [
    "dfs, dfs_wo_thr = [], []\n",
    "for project in projects:\n",
    "    mut_propa_stat_debt_file = os.path.join(outputdir, f\"{project}.indv_mut_propagation_status_and_debt.csv\") \n",
    "    df = pd.read_csv(mut_propa_stat_debt_file)\n",
    "    dfs_wo_thr.append(df)\n",
    "    df = df.loc[~((df.status == 'latent') & (df.debt_time > 365))]\n",
    "    df = df.loc[~((df.status == 'non-latent') & (df.debt_time <= 365))]\n",
    "    df = df.loc[~((df.status == 'discard') & (df.debt_time > 365))]\n",
    "    dfs.append(df)\n",
    "cdf = pd.concat(dfs)\n",
    "cdf_wo_thr = pd.concat(dfs_wo_thr)"
   ]
  },
  {
   "cell_type": "code",
   "execution_count": 5,
   "metadata": {},
   "outputs": [
    {
     "name": "stdout",
     "output_type": "stream",
     "text": [
      " & 8 (30)& 51 (243)& 211 (642)& 104 (425) & 635 (382)& 927 (777)& 1363 (1153)& 1187 (949) & 0 (1)& 23 (161)& 160 (475)& 90 (341)\\\\\n",
      " & 22 (47)& 56 (195)& 173 (509)& 136 (360) & 628 (329)& 1045 (824)& 1695 (1355)& 1137 (931) & 1 (16)& 46 (108)& 108 (344)& 108 (267)\\\\\n",
      " & 8 (30)& 51 (243)& 211 (642)& 104 (425) & 635 (382)& 927 (777)& 1363 (1153)& 1187 (949) & 0 (1)& 23 (161)& 160 (475)& 90 (341)\\\\\n",
      " & 22 (47)& 56 (195)& 173 (509)& 136 (360) & 628 (329)& 1045 (824)& 1695 (1355)& 1137 (931) & 1 (16)& 46 (108)& 108 (344)& 108 (267)\\\\\n",
      " & 8 (30)& 51 (243)& 211 (642)& 104 (425) & 635 (382)& 927 (777)& 1363 (1153)& 1187 (949) & 0 (1)& 23 (161)& 160 (475)& 90 (341)\\\\\n",
      " & 22 (47)& 56 (195)& 173 (509)& 136 (360) & 628 (329)& 1045 (824)& 1695 (1355)& 1137 (931) & 1 (16)& 46 (108)& 108 (344)& 108 (267)\\\\\n"
     ]
    }
   ],
   "source": [
    "def compare_surv_dur(df, df_wo_thr, target_col):\n",
    "    line = \"\"\n",
    "    grouped = df.groupby('status')\n",
    "    grouped_wo_thr = df_wo_thr.groupby('status')\n",
    "    for status in ['latent', 'non-latent', 'discard']:\n",
    "        adf = grouped.get_group(status)\n",
    "        a_adf = grouped_wo_thr.get_group(status)\n",
    "        vs = adf[target_col].values \n",
    "        n_25 = int(np.round(np.percentile(vs, 25)))\n",
    "        n_50 = int(np.round(np.percentile(vs, 50)))\n",
    "        n_75 = int(np.round(np.percentile(vs, 75)))\n",
    "        n_mean = int(np.round(adf[target_col].mean()))\n",
    "        a_vs = a_adf[target_col].values \n",
    "        a_n_25 = int(np.round(np.percentile(a_vs, 25)))\n",
    "        a_n_50 = int(np.round(np.percentile(a_vs, 50)))\n",
    "        a_n_75 = int(np.round(np.percentile(a_vs, 75)))\n",
    "        a_n_mean = int(np.round(a_adf[target_col].mean()))\n",
    "        line += f\" & {n_25} ({a_n_25})& {n_50} ({a_n_50})& {n_75} ({a_n_75})& {n_mean} ({a_n_mean})\"\n",
    "    print (line + \"\\\\\\\\\")\n",
    "\n",
    "line = \"\"\n",
    "grouped = cdf.groupby('status')\n",
    "for status in ['latent', 'non-latent', 'discard']:\n",
    "    compare_surv_dur(cdf, cdf_wo_thr, 'debt_time')\n",
    "    compare_surv_dur(cdf, cdf_wo_thr, 'debt_nc')"
   ]
  }
 ],
 "metadata": {
  "kernelspec": {
   "display_name": "Python 3",
   "language": "python",
   "name": "python3"
  },
  "language_info": {
   "codemirror_mode": {
    "name": "ipython",
    "version": 3
   },
   "file_extension": ".py",
   "mimetype": "text/x-python",
   "name": "python",
   "nbconvert_exporter": "python",
   "pygments_lexer": "ipython3",
   "version": "3.9.16"
  },
  "orig_nbformat": 4
 },
 "nbformat": 4,
 "nbformat_minor": 2
}
